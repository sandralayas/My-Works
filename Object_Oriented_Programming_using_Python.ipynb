{
  "nbformat": 4,
  "nbformat_minor": 0,
  "metadata": {
    "colab": {
      "name": "Object Oriented Programming using Python.ipynb",
      "provenance": [],
      "authorship_tag": "ABX9TyNP0YkpaNjRsyX12V/rFItJ",
      "include_colab_link": true
    },
    "kernelspec": {
      "name": "python3",
      "display_name": "Python 3"
    },
    "language_info": {
      "name": "python"
    }
  },
  "cells": [
    {
      "cell_type": "markdown",
      "metadata": {
        "id": "view-in-github",
        "colab_type": "text"
      },
      "source": [
        "<a href=\"https://colab.research.google.com/github/sandralayas/library/blob/Python-practice-problems/Object_Oriented_Programming_using_Python.ipynb\" target=\"_parent\"><img src=\"https://colab.research.google.com/assets/colab-badge.svg\" alt=\"Open In Colab\"/></a>"
      ]
    },
    {
      "cell_type": "markdown",
      "source": [
        "***Class and Objects***"
      ],
      "metadata": {
        "id": "cmWElc7RuDpW"
      }
    },
    {
      "cell_type": "code",
      "source": [
        "class Person:\n",
        "    def __init__(self, name):\n",
        "        self.name = name\n",
        "    def greet(self):\n",
        "        print('Hello, my name is', self.name)\n",
        "   \n",
        "person1= Person('Sansralaya S')\n",
        "person1.greet()"
      ],
      "metadata": {
        "colab": {
          "base_uri": "https://localhost:8080/"
        },
        "id": "cD-Dhjz9I77K",
        "outputId": "8f221aa7-8540-474f-dbda-22943f4bf99d"
      },
      "execution_count": 34,
      "outputs": [
        {
          "output_type": "stream",
          "name": "stdout",
          "text": [
            "Hello, my name is Sansralaya S\n"
          ]
        }
      ]
    },
    {
      "cell_type": "markdown",
      "source": [
        "***Access Specifiers***"
      ],
      "metadata": {
        "id": "j-z8wq-SAtkB"
      }
    },
    {
      "cell_type": "markdown",
      "source": [
        "*Public*"
      ],
      "metadata": {
        "id": "dDJPXyNuLoDH"
      }
    },
    {
      "cell_type": "code",
      "source": [
        "class Intro:\n",
        "     def __init__(self, name, age):\n",
        "           self.introName = name\n",
        "           self.introAge = age\n",
        "     def displayAge(self):\n",
        "           print(\"Age: \", self.introAge)\n",
        "obj = Intro(\"Sandralaya s\", 18)\n",
        "print(\"Name: \", obj.introName)\n",
        "obj.displayAge()"
      ],
      "metadata": {
        "colab": {
          "base_uri": "https://localhost:8080/"
        },
        "id": "uZG1TFsTLnGP",
        "outputId": "20a9552a-8dbf-4f03-d8ca-d1ab2058efeb"
      },
      "execution_count": 37,
      "outputs": [
        {
          "output_type": "stream",
          "name": "stdout",
          "text": [
            "Name:  Sandralaya s\n",
            "Age:  18\n"
          ]
        }
      ]
    },
    {
      "cell_type": "markdown",
      "source": [
        "***Inheritance***"
      ],
      "metadata": {
        "id": "a-OYq86lBjAX"
      }
    },
    {
      "cell_type": "code",
      "source": [
        "class Person( object ):      \n",
        "        def __init__(self, name, idnumber):  \n",
        "                self.name = name\n",
        "                self.idnumber = idnumber\n",
        "        def display(self):\n",
        "                print(self.name)\n",
        "                print(self.idnumber)\n",
        "class Employee( Person ):          \n",
        "        def __init__(self, name, idnumber, salary, post):\n",
        "                self.salary = salary\n",
        "                self.post = post\n",
        "\n",
        "                Person.__init__(self, name, idnumber)\n",
        "                \n",
        "test1= Employee('Sandralaya S', 886012, 200000, \"Intern\")\n",
        "test1.display()"
      ],
      "metadata": {
        "colab": {
          "base_uri": "https://localhost:8080/"
        },
        "id": "dSGKbQiaMwIH",
        "outputId": "4b8b8549-23bc-46f1-8141-553b3ec35c76"
      },
      "execution_count": 39,
      "outputs": [
        {
          "output_type": "stream",
          "name": "stdout",
          "text": [
            "Sandralaya S\n",
            "886012\n"
          ]
        }
      ]
    }
  ]
}