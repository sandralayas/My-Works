{
  "nbformat": 4,
  "nbformat_minor": 0,
  "metadata": {
    "colab": {
      "name": "Python practice problems.ipynb",
      "provenance": [],
      "authorship_tag": "ABX9TyPVN9V24a/VfKSxshveDGSa",
      "include_colab_link": true
    },
    "kernelspec": {
      "name": "python3",
      "display_name": "Python 3"
    },
    "language_info": {
      "name": "python"
    }
  },
  "cells": [
    {
      "cell_type": "markdown",
      "metadata": {
        "id": "view-in-github",
        "colab_type": "text"
      },
      "source": [
        "<a href=\"https://colab.research.google.com/github/sandralayas/library/blob/Python-practice-problems/Python_practice_problems.ipynb\" target=\"_parent\"><img src=\"https://colab.research.google.com/assets/colab-badge.svg\" alt=\"Open In Colab\"/></a>"
      ]
    },
    {
      "cell_type": "markdown",
      "source": [
        "***Sequential Programs***"
      ],
      "metadata": {
        "id": "cmWElc7RuDpW"
      }
    },
    {
      "cell_type": "markdown",
      "source": [
        "*Strings*"
      ],
      "metadata": {
        "id": "Ws91OmzHuknD"
      }
    },
    {
      "cell_type": "code",
      "execution_count": null,
      "metadata": {
        "colab": {
          "base_uri": "https://localhost:8080/"
        },
        "id": "B5EHA7ect8tG",
        "outputId": "d439ece3-8cea-44e9-97d4-70b1e85f84a7"
      },
      "outputs": [
        {
          "output_type": "stream",
          "name": "stdout",
          "text": [
            "Computer\n",
            "Science\n",
            "Computer Science (CS)\n"
          ]
        }
      ],
      "source": [
        "string1='Computer Science'\n",
        "print(string[:8])\n",
        "print(string[9:])\n",
        "string2=' (CS)'\n",
        "print(string1+string2)"
      ]
    },
    {
      "cell_type": "markdown",
      "source": [
        "*Lists*"
      ],
      "metadata": {
        "id": "oYCA_WqbvYuL"
      }
    },
    {
      "cell_type": "code",
      "source": [
        "list1=[1,2,3,4]\n",
        "list2=[5,6,7,8]\n",
        "list2.append(list2[3]+1)\n",
        "list2=list2+[list2[3]+2]\n",
        "print(list1+list2)"
      ],
      "metadata": {
        "colab": {
          "base_uri": "https://localhost:8080/"
        },
        "id": "qdED0ZvVvb5T",
        "outputId": "c382f7c7-c82e-43c2-e009-43cda40d8577"
      },
      "execution_count": 19,
      "outputs": [
        {
          "output_type": "stream",
          "name": "stdout",
          "text": [
            "[1, 2, 3, 4, 5, 6, 7, 8, 9, 10]\n"
          ]
        }
      ]
    },
    {
      "cell_type": "markdown",
      "source": [
        "*Tuples*"
      ],
      "metadata": {
        "id": "XkcVdEwVwt1D"
      }
    },
    {
      "cell_type": "code",
      "source": [
        "tuple1=(1,2,3,4)\n",
        "tuple2=(5,6,7,8)\n",
        "tuple2=tuple2+(tuple2[3]+1,)\n",
        "tuple2=tuple2+tuple(tuple2[3]+2)\n",
        "print(tuple1+tuple2)"
      ],
      "metadata": {
        "colab": {
          "base_uri": "https://localhost:8080/"
        },
        "id": "-toujhtewyO6",
        "outputId": "782396d5-365c-4724-fe94-f2c53792f600"
      },
      "execution_count": null,
      "outputs": [
        {
          "output_type": "stream",
          "name": "stdout",
          "text": [
            "(1, 2, 3, 4, 5, 6, 7, 8, 9, 10)\n"
          ]
        }
      ]
    },
    {
      "cell_type": "markdown",
      "source": [
        "*Sets*"
      ],
      "metadata": {
        "id": "PCdu2Exs_Ryt"
      }
    },
    {
      "cell_type": "code",
      "source": [
        "set1={1,2,3,4}\n",
        "set2={3,4,5,6}\n",
        "print(set1.union(set2))\n",
        "print(set1.intersection(set2))"
      ],
      "metadata": {
        "colab": {
          "base_uri": "https://localhost:8080/"
        },
        "id": "oBBT5SWr_TlH",
        "outputId": "c10302d7-1bfb-4ec8-aaba-d452b9eff974"
      },
      "execution_count": 22,
      "outputs": [
        {
          "output_type": "stream",
          "name": "stdout",
          "text": [
            "{1, 2, 3, 4, 5, 6}\n",
            "{3, 4}\n"
          ]
        }
      ]
    },
    {
      "cell_type": "markdown",
      "source": [
        "***Branching Programs***"
      ],
      "metadata": {
        "id": "j-z8wq-SAtkB"
      }
    },
    {
      "cell_type": "markdown",
      "source": [
        "*If*"
      ],
      "metadata": {
        "id": "r0Xb6286A6zy"
      }
    },
    {
      "cell_type": "code",
      "source": [
        "number=int(input( 'Enter the number : '))\n",
        "if number%2==0:print( ' The number is even')\n",
        "else:( ' The number is odd')"
      ],
      "metadata": {
        "colab": {
          "base_uri": "https://localhost:8080/"
        },
        "id": "ZaaZE_bvAzMq",
        "outputId": "c78ad9cf-29ed-4528-903b-75cfa2129976"
      },
      "execution_count": 24,
      "outputs": [
        {
          "output_type": "stream",
          "name": "stdout",
          "text": [
            "Enter the number : 4\n",
            " The number is even\n"
          ]
        }
      ]
    },
    {
      "cell_type": "markdown",
      "source": [
        "***Iterative programs***"
      ],
      "metadata": {
        "id": "a-OYq86lBjAX"
      }
    },
    {
      "cell_type": "markdown",
      "source": [
        "*For loop*"
      ],
      "metadata": {
        "id": "9dcATEWNB7xG"
      }
    },
    {
      "cell_type": "code",
      "source": [
        "number=int(input( 'Enter the number : '))\n",
        "for i in range(number):print(i,end=' ')"
      ],
      "metadata": {
        "colab": {
          "base_uri": "https://localhost:8080/"
        },
        "id": "zToPPAAfBn2H",
        "outputId": "ded8c2bb-0867-43d3-8c21-9ca6a99ed54b"
      },
      "execution_count": 26,
      "outputs": [
        {
          "output_type": "stream",
          "name": "stdout",
          "text": [
            "Enter the number : 10\n",
            "0 1 2 3 4 5 6 7 8 9 "
          ]
        }
      ]
    },
    {
      "cell_type": "markdown",
      "source": [
        "*While loop*"
      ],
      "metadata": {
        "id": "FzMrQFtQCv3Y"
      }
    },
    {
      "cell_type": "code",
      "source": [
        "lower=int(input( 'Enter the lower limit : '))\n",
        "upper=int(input( 'Enter the upper limit : '))\n",
        "while lower!=upper:\n",
        "  print(lower,end=' ')\n",
        "  lower+=1"
      ],
      "metadata": {
        "colab": {
          "base_uri": "https://localhost:8080/"
        },
        "id": "2iL4Wjs7C070",
        "outputId": "105f5617-0ad6-4b58-e255-cf438c58e101"
      },
      "execution_count": 28,
      "outputs": [
        {
          "output_type": "stream",
          "name": "stdout",
          "text": [
            "Enter the lower limit : 1\n",
            "Enter the upper limit : 10\n",
            "1 2 3 4 5 6 7 8 9 "
          ]
        }
      ]
    }
  ]
}